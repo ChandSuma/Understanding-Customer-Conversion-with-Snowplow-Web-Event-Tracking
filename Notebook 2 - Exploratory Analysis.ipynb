{
 "cells": [
  {
   "cell_type": "markdown",
   "metadata": {},
   "source": [
    "Import the necessary packages."
   ]
  },
  {
   "cell_type": "code",
   "execution_count": 162,
   "metadata": {
    "collapsed": false
   },
   "outputs": [],
   "source": [
    "import os\n",
    "import pandas as pd\n",
    "import numpy as np\n",
    "import matplotlib.pyplot as plt "
   ]
  },
  {
   "cell_type": "markdown",
   "metadata": {},
   "source": [
    "Set the path to where the munged data is located."
   ]
  },
  {
   "cell_type": "code",
   "execution_count": 163,
   "metadata": {
    "collapsed": true
   },
   "outputs": [],
   "source": [
    "path_to_data = '/home/bsknight/Documents/Personal_Training_Git/Udacity/Udacity-Machine_Learning_Nanodegree/' + \\\n",
    "               'Capstone_Project/Data' \n",
    "os.chdir(path_to_data)"
   ]
  },
  {
   "cell_type": "markdown",
   "metadata": {},
   "source": [
    "Read in the data."
   ]
  },
  {
   "cell_type": "code",
   "execution_count": 164,
   "metadata": {
    "collapsed": false
   },
   "outputs": [
    {
     "data": {
      "text/html": [
       "<div>\n",
       "<table border=\"1\" class=\"dataframe\">\n",
       "  <thead>\n",
       "    <tr style=\"text-align: right;\">\n",
       "      <th></th>\n",
       "      <th>/blog/should-you-outsource-your-order-fulfillment-processpage_view</th>\n",
       "      <th>about/page_view</th>\n",
       "      <th>blog/allpage_view</th>\n",
       "      <th>blog/black-fridays-nowpage_view</th>\n",
       "      <th>blog/topic/customer-spotlightpage_view</th>\n",
       "      <th>blog/topic/inventory-managementpage_view</th>\n",
       "      <th>blog/topic/inventory-setupspage_view</th>\n",
       "      <th>blog/topic/master-your-datapage_view</th>\n",
       "      <th>blog/topic/multichannel-operationspage_view</th>\n",
       "      <th>blog/topic/stitch-updatespage_view</th>\n",
       "      <th>...</th>\n",
       "      <th>mkt_source_vero</th>\n",
       "      <th>mkt_source_weeklyemail</th>\n",
       "      <th>mkt_source_wiser_com</th>\n",
       "      <th>mkt_source_woocommerce</th>\n",
       "      <th>mkt_source_woocommerce_com</th>\n",
       "      <th>mkt_source_woothemes_com</th>\n",
       "      <th>mkt_source_xero</th>\n",
       "      <th>mkt_source_xero_com</th>\n",
       "      <th>mkt_source_youtube_com</th>\n",
       "      <th>cc</th>\n",
       "    </tr>\n",
       "    <tr>\n",
       "      <th>account_id</th>\n",
       "      <th></th>\n",
       "      <th></th>\n",
       "      <th></th>\n",
       "      <th></th>\n",
       "      <th></th>\n",
       "      <th></th>\n",
       "      <th></th>\n",
       "      <th></th>\n",
       "      <th></th>\n",
       "      <th></th>\n",
       "      <th></th>\n",
       "      <th></th>\n",
       "      <th></th>\n",
       "      <th></th>\n",
       "      <th></th>\n",
       "      <th></th>\n",
       "      <th></th>\n",
       "      <th></th>\n",
       "      <th></th>\n",
       "      <th></th>\n",
       "      <th></th>\n",
       "    </tr>\n",
       "  </thead>\n",
       "  <tbody>\n",
       "    <tr>\n",
       "      <th>1206.0</th>\n",
       "      <td>0</td>\n",
       "      <td>0</td>\n",
       "      <td>0</td>\n",
       "      <td>0</td>\n",
       "      <td>0</td>\n",
       "      <td>0</td>\n",
       "      <td>0</td>\n",
       "      <td>0</td>\n",
       "      <td>0</td>\n",
       "      <td>0</td>\n",
       "      <td>...</td>\n",
       "      <td>0.0</td>\n",
       "      <td>0.0</td>\n",
       "      <td>0.0</td>\n",
       "      <td>0.0</td>\n",
       "      <td>0.0</td>\n",
       "      <td>0.0</td>\n",
       "      <td>0.0</td>\n",
       "      <td>0.0</td>\n",
       "      <td>0.0</td>\n",
       "      <td>0.0</td>\n",
       "    </tr>\n",
       "  </tbody>\n",
       "</table>\n",
       "<p>1 rows × 741 columns</p>\n",
       "</div>"
      ],
      "text/plain": [
       "            /blog/should-you-outsource-your-order-fulfillment-processpage_view  \\\n",
       "account_id                                                                       \n",
       "1206.0                                                      0                    \n",
       "\n",
       "            about/page_view  blog/allpage_view  \\\n",
       "account_id                                       \n",
       "1206.0                    0                  0   \n",
       "\n",
       "            blog/black-fridays-nowpage_view  \\\n",
       "account_id                                    \n",
       "1206.0                                    0   \n",
       "\n",
       "            blog/topic/customer-spotlightpage_view  \\\n",
       "account_id                                           \n",
       "1206.0                                           0   \n",
       "\n",
       "            blog/topic/inventory-managementpage_view  \\\n",
       "account_id                                             \n",
       "1206.0                                             0   \n",
       "\n",
       "            blog/topic/inventory-setupspage_view  \\\n",
       "account_id                                         \n",
       "1206.0                                         0   \n",
       "\n",
       "            blog/topic/master-your-datapage_view  \\\n",
       "account_id                                         \n",
       "1206.0                                         0   \n",
       "\n",
       "            blog/topic/multichannel-operationspage_view  \\\n",
       "account_id                                                \n",
       "1206.0                                                0   \n",
       "\n",
       "            blog/topic/stitch-updatespage_view ...   mkt_source_vero  \\\n",
       "account_id                                     ...                     \n",
       "1206.0                                       0 ...               0.0   \n",
       "\n",
       "            mkt_source_weeklyemail  mkt_source_wiser_com  \\\n",
       "account_id                                                 \n",
       "1206.0                         0.0                   0.0   \n",
       "\n",
       "            mkt_source_woocommerce  mkt_source_woocommerce_com  \\\n",
       "account_id                                                       \n",
       "1206.0                         0.0                         0.0   \n",
       "\n",
       "            mkt_source_woothemes_com  mkt_source_xero  mkt_source_xero_com  \\\n",
       "account_id                                                                   \n",
       "1206.0                           0.0              0.0                  0.0   \n",
       "\n",
       "            mkt_source_youtube_com   cc  \n",
       "account_id                               \n",
       "1206.0                         0.0  0.0  \n",
       "\n",
       "[1 rows x 741 columns]"
      ]
     },
     "execution_count": 164,
     "metadata": {},
     "output_type": "execute_result"
    }
   ],
   "source": [
    "df = pd.read_csv('./munged_df.csv', index_col='account_id')\n",
    "df.head(1)"
   ]
  },
  {
   "cell_type": "markdown",
   "metadata": {},
   "source": [
    "The labels for our data are contained in the 'cc' column. Let's see how frequent the labels are."
   ]
  },
  {
   "cell_type": "code",
   "execution_count": 165,
   "metadata": {
    "collapsed": false
   },
   "outputs": [],
   "source": [
    "a = pd.DataFrame(pd.Series(df[\"cc\"]).value_counts()).iloc[0]['cc']\n",
    "b = pd.DataFrame(pd.Series(df[\"cc\"]).value_counts()).iloc[1]['cc']\n",
    "plt.bar([0], [a], label=\"No Credit Card Added\", color='grey', align='center')\n",
    "plt.bar([1], [b], label=\"Credit Card Added\", color = 'green', align='center')\n",
    "LABELS = [\"No Credit Card Added\", \"Credit Card Added\"]\n",
    "plt.xticks([0,1], LABELS)\n",
    "plt.xlabel('Account Status')\n",
    "plt.ylabel('Accounts Created')\n",
    "plt.title('The Observation Labels: Conversion to Paying Account')\n",
    "# plt.legend()\n",
    "# plt.show()\n",
    "path = '/home/bsknight/Documents/Personal_Training_Git/Udacity/Udacity-Machine_Learning_Nanodegree/' + \\\n",
    "       'Capstone_Project'\n",
    "savepath = os.path.join(path, 'exploratory_analysis-labels.png')\n",
    "plt.savefig(savepath)\n",
    "plt.clf()"
   ]
  },
  {
   "cell_type": "markdown",
   "metadata": {},
   "source": [
    "Now that we've examined the distrubution of labels, lets calculate the summary statistics for the other features. "
   ]
  },
  {
   "cell_type": "code",
   "execution_count": 166,
   "metadata": {
    "collapsed": false,
    "scrolled": true
   },
   "outputs": [],
   "source": [
    "means = pd.DataFrame(df.mean())\n",
    "means = means.reset_index()\n",
    "means = means.rename(columns={'index': 'Feature', 0: 'Mean'})\n",
    "means.sort_values(by='Mean', ascending=0, inplace=True)\n",
    "bins = np.arange(0, 30, 1)\n",
    "plt.hist(means[\"Mean\"], bins, histtype='bar')\n",
    "plt.xlabel('Feature Mean')\n",
    "plt.ylabel('Number of Features')\n",
    "plt.title('Histogram of Feature Means (Bin = 1)')\n",
    "# plt.ylim((0,30))\n",
    "# plt.show()\n",
    "savepath = os.path.join(path, 'exploratory_analysis-feature_means.png')\n",
    "plt.savefig(savepath)\n",
    "plt.clf()"
   ]
  },
  {
   "cell_type": "markdown",
   "metadata": {},
   "source": [
    "Now for the standard deviations."
   ]
  },
  {
   "cell_type": "code",
   "execution_count": 168,
   "metadata": {
    "collapsed": false
   },
   "outputs": [],
   "source": [
    "sds = pd.DataFrame(df.std())  \n",
    "sds = sds.reset_index()\n",
    "sds = sds.rename(columns={'index': 'Feature', 0: 'SD'})\n",
    "sds.sort_values(by='SD', ascending=0, inplace=True)\n",
    "bins = np.arange(0, 200, 10)\n",
    "plt.hist(sds[\"SD\"], bins, histtype='bar')\n",
    "plt.xlabel('Feature Standard Deviation')\n",
    "plt.ylabel('Number of Features')\n",
    "plt.title('Histogram of Feature Standard Deviations (Bin = 10)')\n",
    "# plt.ylim((0,100))\n",
    "# plt.show()\n",
    "savepath = os.path.join(path, 'exploratory_analysis-feature_sds.png')\n",
    "plt.savefig(savepath)\n",
    "plt.clf()"
   ]
  }
 ],
 "metadata": {
  "anaconda-cloud": {},
  "kernelspec": {
   "display_name": "Python [conda env:py2]",
   "language": "python",
   "name": "conda-env-py2-py"
  },
  "language_info": {
   "codemirror_mode": {
    "name": "ipython",
    "version": 2
   },
   "file_extension": ".py",
   "mimetype": "text/x-python",
   "name": "python",
   "nbconvert_exporter": "python",
   "pygments_lexer": "ipython2",
   "version": "2.7.12"
  }
 },
 "nbformat": 4,
 "nbformat_minor": 1
}
