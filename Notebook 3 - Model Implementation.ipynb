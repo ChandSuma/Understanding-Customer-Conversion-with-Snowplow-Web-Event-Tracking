{
 "cells": [
  {
   "cell_type": "markdown",
   "metadata": {},
   "source": [
    "### Initial Setup"
   ]
  },
  {
   "cell_type": "markdown",
   "metadata": {},
   "source": [
    "Import the necessary packages."
   ]
  },
  {
   "cell_type": "code",
   "execution_count": 27,
   "metadata": {
    "collapsed": false
   },
   "outputs": [],
   "source": [
    "import os\n",
    "import pandas as pd\n",
    "import numpy as np\n",
    "import matplotlib.pyplot as plt"
   ]
  },
  {
   "cell_type": "markdown",
   "metadata": {},
   "source": [
    "Set the path to where the munged data is located."
   ]
  },
  {
   "cell_type": "code",
   "execution_count": 28,
   "metadata": {
    "collapsed": true
   },
   "outputs": [],
   "source": [
    "path_to_data = '/home/bsknight/Documents/Personal_Training_Git/Udacity/Udacity-Machine_Learning_Nanodegree/' + \\\n",
    "               'Capstone_Project/Data' \n",
    "os.chdir(path_to_data)"
   ]
  },
  {
   "cell_type": "markdown",
   "metadata": {},
   "source": [
    "Read in the data."
   ]
  },
  {
   "cell_type": "code",
   "execution_count": 29,
   "metadata": {
    "collapsed": false
   },
   "outputs": [
    {
     "data": {
      "text/plain": [
       "16607"
      ]
     },
     "execution_count": 29,
     "metadata": {},
     "output_type": "execute_result"
    }
   ],
   "source": [
    "df = pd.read_csv('./munged_df.csv', index_col='account_id')\n",
    "len(df)"
   ]
  },
  {
   "cell_type": "markdown",
   "metadata": {},
   "source": [
    "Extract the features and labels."
   ]
  },
  {
   "cell_type": "code",
   "execution_count": 30,
   "metadata": {
    "collapsed": false
   },
   "outputs": [],
   "source": [
    "# Extract feature columns\n",
    "feature_cols = list(df.columns[:-1])\n",
    "\n",
    "# Extract target column 'passed'\n",
    "target_col = df.columns[-1] \n",
    "\n",
    "# Separate the data into feature data and target data (X_all and y_all, respectively)\n",
    "X_all = df[feature_cols]\n",
    "y_all = df[target_col] "
   ]
  },
  {
   "cell_type": "markdown",
   "metadata": {},
   "source": [
    "Scale the features"
   ]
  },
  {
   "cell_type": "code",
   "execution_count": 31,
   "metadata": {
    "collapsed": true
   },
   "outputs": [],
   "source": [
    "from sklearn.preprocessing import RobustScaler\n",
    "scaler = RobustScaler()\n",
    "X_all = scaler.fit_transform(X_all)"
   ]
  },
  {
   "cell_type": "markdown",
   "metadata": {},
   "source": [
    "Split the data into training and testing sets."
   ]
  },
  {
   "cell_type": "code",
   "execution_count": 32,
   "metadata": {
    "collapsed": false
   },
   "outputs": [
    {
     "name": "stdout",
     "output_type": "stream",
     "text": [
      "Training set has 8303 samples.\n",
      "Testing set has 8304 samples.\n"
     ]
    }
   ],
   "source": [
    "from sklearn.cross_validation import train_test_split\n",
    "\n",
    "# TODO: Shuffle and split the dataset into the number of training and testing points above\n",
    "X_train, X_test, y_train, y_test = train_test_split(X_all , \n",
    "                                                    y_all, \n",
    "                                                    stratify=y_all,\n",
    "                                                    test_size=0.5, \n",
    "                                                    random_state=1)\n",
    "\n",
    "# Show the results of the split\n",
    "print \"Training set has {} samples.\".format(X_train.shape[0])\n",
    "print \"Testing set has {} samples.\".format(X_test.shape[0])"
   ]
  },
  {
   "cell_type": "markdown",
   "metadata": {},
   "source": [
    "### Implementating PCA"
   ]
  },
  {
   "cell_type": "markdown",
   "metadata": {},
   "source": [
    "Apply PCA to the training data."
   ]
  },
  {
   "cell_type": "code",
   "execution_count": 33,
   "metadata": {
    "collapsed": false
   },
   "outputs": [],
   "source": [
    "# from sklearn.decomposition import PCA\n",
    "# pca = PCA(n_components = 4)\n",
    "# pca = pca.fit(X_train)\n",
    "# X_train = pca.transform(X_train)\n",
    "# X_train = pd.DataFrame(X_train, columns = ['Dimension 1', 'Dimension 2', 'Dimension 3', 'Dimension 4'])\n",
    "# print(pca.explained_variance_ratio_) "
   ]
  },
  {
   "cell_type": "code",
   "execution_count": 34,
   "metadata": {
    "collapsed": false
   },
   "outputs": [],
   "source": [
    "# X_test = pca.transform(X_test)"
   ]
  },
  {
   "cell_type": "markdown",
   "metadata": {},
   "source": [
    "### Creating the Classifier"
   ]
  },
  {
   "cell_type": "markdown",
   "metadata": {},
   "source": [
    "Create the SVM classifier with a RBF kernel."
   ]
  },
  {
   "cell_type": "code",
   "execution_count": 41,
   "metadata": {
    "collapsed": false
   },
   "outputs": [
    {
     "data": {
      "text/plain": [
       "SVC(C=1, cache_size=200, class_weight=None, coef0=0.0,\n",
       "  decision_function_shape=None, degree=3, gamma=10.0, kernel='rbf',\n",
       "  max_iter=-1, probability=False, random_state=1, shrinking=True,\n",
       "  tol=0.001, verbose=False)"
      ]
     },
     "execution_count": 41,
     "metadata": {},
     "output_type": "execute_result"
    }
   ],
   "source": [
    "from sklearn.svm import SVC\n",
    "clf = SVC(C=1, cache_size=200, class_weight=None, coef0=0.0,\n",
    "  decision_function_shape=None, degree=3, gamma=10.0, kernel='rbf',\n",
    "  max_iter=-1, probability=False, random_state=1, shrinking=True,\n",
    "  tol=0.001, verbose=False)\n",
    "clf.fit(X_train, y_train) "
   ]
  },
  {
   "cell_type": "code",
   "execution_count": 42,
   "metadata": {
    "collapsed": false
   },
   "outputs": [],
   "source": [
    "from sklearn.metrics import precision_recall_curve\n",
    "y_score = clf.fit(X_train, y_train).decision_function(X_test)\n",
    "precision, recall, thresholds = precision_recall_curve(y_test, y_score)"
   ]
  },
  {
   "cell_type": "code",
   "execution_count": 43,
   "metadata": {
    "collapsed": true
   },
   "outputs": [],
   "source": [
    "from sklearn.metrics import average_precision_score\n",
    "average_precision = average_precision_score(y_test, y_score)"
   ]
  },
  {
   "cell_type": "code",
   "execution_count": 44,
   "metadata": {
    "collapsed": false,
    "scrolled": true
   },
   "outputs": [
    {
     "data": {
      "image/png": "[encoded data removed]",
      "text/plain": [
       "<matplotlib.figure.Figure at 0x7f36f4f09110>"
      ]
     },
     "metadata": {},
     "output_type": "display_data"
    }
   ],
   "source": [
    "plt.clf()\n",
    "lw = 2\n",
    "plt.plot(recall, precision, lw=lw, color='navy',\n",
    "         label='Precision-Recall Curve')\n",
    "plt.legend(loc=\"upper right\")\n",
    "plt.xlabel('Recall: Share of Customer Conversions Captured')\n",
    "plt.ylabel('Precision: Accuracy of Predicted Customer Conversions')\n",
    "plt.title('Precision-Recall of Customer Conversion: AUC={0:0.2f}'.format(average_precision))\n",
    "plt.show()"
   ]
  },
  {
   "cell_type": "code",
   "execution_count": null,
   "metadata": {
    "collapsed": false,
    "scrolled": true
   },
   "outputs": [],
   "source": [
    "from sklearn.metrics import f1_score, make_scorer\n",
    "scorer = make_scorer(f1_score, average='binary', pos_label=0)\n",
    "\n",
    "\n",
    "# from sklearn.cross_validation import GridSearchCV\n",
    "from sklearn import grid_search\n",
    "\n",
    "# TODO: Create the parameters list you wish to tune\n",
    "parameters = {  \n",
    "            'C':           [               \\\n",
    "                            1e-3           \\\n",
    "                            ,1e-2           \\\n",
    "                            ,1e-1          \\\n",
    "                            ,1             \\\n",
    "                            ,1e1           \\\n",
    "                            ,1e2           \\\n",
    "                            ,1e3           \\\n",
    "                           ],\n",
    "            'gamma':       [               \\\n",
    "                            1e-3           \\\n",
    "                            ,1e-2           \\\n",
    "                            ,1e-1          \\\n",
    "                            ,1             \\\n",
    "                            ,1e1           \\\n",
    "                            ,1e2           \\\n",
    "                            ,1e3           \\\n",
    "                           ],\n",
    "#             'degree':      [               \\\n",
    "#                             1              \\\n",
    "#                             ,2             \\\n",
    "#                             ,3             \\\n",
    "#                             ,4             \\\n",
    "#                             ],\n",
    "#             'shrinking':   [               \\\n",
    "#                             True           \\\n",
    "#                             ,False         \\\n",
    "#                             ],\n",
    "#             'probability': [               \\\n",
    "#                             True           \\\n",
    "#                             ,False         \\\n",
    "#                             ],\n",
    "            'kernel':      [               \\\n",
    "                             'linear'      \\\n",
    "#                             ,'poly'        \\\n",
    "                            ,'rbf'         \\\n",
    "                            ,'sigmoid'     \\\n",
    "                            ]\n",
    "             }\n",
    "\n",
    "# TODO: Initialize the classifier\n",
    "clf = SVC(random_state=1)\n",
    "\n",
    "# f1_scorer, average_precision\n",
    "grid_obj = grid_search.GridSearchCV(clf, parameters, scoring=scorer, n_jobs=-1)\n",
    "\n",
    "# TODO: Fit the grid search object to the training data and find the optimal parameters\n",
    "grid_obj.fit(X_train, y_train)\n",
    "\n",
    "# Get the estimator\n",
    "clf = grid_obj.best_estimator_\n",
    "\n",
    "# Report the final F1 score for training and testing after parameter tuning\n",
    "print clf"
   ]
  }
 ],
 "metadata": {
  "anaconda-cloud": {},
  "kernelspec": {
   "display_name": "Python [conda env:py2]",
   "language": "python",
   "name": "conda-env-py2-py"
  },
  "language_info": {
   "codemirror_mode": {
    "name": "ipython",
    "version": 2
   },
   "file_extension": ".py",
   "mimetype": "text/x-python",
   "name": "python",
   "nbconvert_exporter": "python",
   "pygments_lexer": "ipython2",
   "version": "2.7.12"
  }
 },
 "nbformat": 4,
 "nbformat_minor": 1
}
